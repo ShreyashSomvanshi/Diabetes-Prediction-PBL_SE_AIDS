{
 "cells": [
  {
   "cell_type": "markdown",
   "metadata": {},
   "source": [
    "## Diabetes prediction using machine learning (4 algorithms)"
   ]
  },
  {
   "cell_type": "markdown",
   "metadata": {},
   "source": [
    "In this article we will be predicting that whether the patient have diabetes or not basis on the features we will provide to our machine learning model and for that we will be using famous Pima Indians Diabetes Database - https://www.kaggle.com/uciml/pima-indians-diabetes-database"
   ]
  },
  {
   "cell_type": "markdown",
   "metadata": {},
   "source": [
    "\n",
    "1. Data analysis : Here one will get to know about how the data analysis part is done in a data science life cycle.\n",
    "2. Exploratory data analysis : EDA is one of the most important step in data science project life cycle and here one will need to know that how to make inferences from the visualizations and data analysis\n",
    "3. Model building : Here we will be using 4 ML models and then we will choose the best performing model.\n",
    "4. Saving model : Saving the best model using pickle to make the prediction from real data.\n",
    "5. Model Deployment: Using Streamlit to build interactive website. "
   ]
  },
  {
   "cell_type": "markdown",
   "metadata": {
    "id": "ysFMa2ksm1wB"
   },
   "source": [
    "### Importing Libraries"
   ]
  },
  {
   "cell_type": "code",
   "execution_count": 3,
   "metadata": {
    "id": "fCCFbadNAr1W"
   },
   "outputs": [],
   "source": [
    "import numpy as np\n",
    "import pandas as pd\n",
    "import matplotlib.pyplot as plt\n",
    "import seaborn as sns\n",
    "\n",
    "sns.set()\n",
    "from pandas.plotting import scatter_matrix\n",
    "from sklearn.preprocessing import StandardScaler\n",
    "from sklearn.model_selection import train_test_split\n",
    "from sklearn.neighbors import KNeighborsClassifier\n",
    "\n",
    "from sklearn.metrics import confusion_matrix\n",
    "from sklearn import metrics\n",
    "from sklearn.metrics import classification_report\n",
    "import warnings\n",
    "warnings.filterwarnings('ignore')\n",
    "%matplotlib inline"
   ]
  },
  {
   "cell_type": "markdown",
   "metadata": {
    "id": "WYrMPIlwAr1b"
   },
   "source": [
    "### Here we will be reading the dataset which is in the csv format"
   ]
  },
  {
   "cell_type": "code",
   "execution_count": 5,
   "metadata": {
    "executionInfo": {
     "elapsed": 792,
     "status": "ok",
     "timestamp": 1602166032425,
     "user": {
      "displayName": "Pianalytix Vrec",
      "photoUrl": "",
      "userId": "08286299111597749388"
     },
     "user_tz": -330
    },
    "id": "F2bHAmtXAr1c"
   },
   "outputs": [],
   "source": [
    "diabetes_df = pd.read_csv(r'https://github.com/Yantra-Byte/Dataset/raw/main/Diabetes.csv')"
   ]
  },
  {
   "cell_type": "code",
   "execution_count": 6,
   "metadata": {
    "colab": {
     "base_uri": "https://localhost:8080/",
     "height": 195
    },
    "executionInfo": {
     "elapsed": 1000,
     "status": "ok",
     "timestamp": 1602166036967,
     "user": {
      "displayName": "Pianalytix Vrec",
      "photoUrl": "",
      "userId": "08286299111597749388"
     },
     "user_tz": -330
    },
    "id": "zVBfyL_jAr1f",
    "outputId": "4e9a2848-635a-4dbe-c785-262846d77c73"
   },
   "outputs": [
    {
     "data": {
      "text/html": [
       "<div>\n",
       "<style scoped>\n",
       "    .dataframe tbody tr th:only-of-type {\n",
       "        vertical-align: middle;\n",
       "    }\n",
       "\n",
       "    .dataframe tbody tr th {\n",
       "        vertical-align: top;\n",
       "    }\n",
       "\n",
       "    .dataframe thead th {\n",
       "        text-align: right;\n",
       "    }\n",
       "</style>\n",
       "<table border=\"1\" class=\"dataframe\">\n",
       "  <thead>\n",
       "    <tr style=\"text-align: right;\">\n",
       "      <th></th>\n",
       "      <th>pregnancies</th>\n",
       "      <th>glucose</th>\n",
       "      <th>diastolic</th>\n",
       "      <th>triceps</th>\n",
       "      <th>insulin</th>\n",
       "      <th>bmi</th>\n",
       "      <th>dpf</th>\n",
       "      <th>age</th>\n",
       "      <th>diabetes</th>\n",
       "    </tr>\n",
       "  </thead>\n",
       "  <tbody>\n",
       "    <tr>\n",
       "      <th>0</th>\n",
       "      <td>6</td>\n",
       "      <td>148</td>\n",
       "      <td>72</td>\n",
       "      <td>35</td>\n",
       "      <td>0</td>\n",
       "      <td>33.6</td>\n",
       "      <td>0.627</td>\n",
       "      <td>50</td>\n",
       "      <td>1</td>\n",
       "    </tr>\n",
       "    <tr>\n",
       "      <th>1</th>\n",
       "      <td>1</td>\n",
       "      <td>85</td>\n",
       "      <td>66</td>\n",
       "      <td>29</td>\n",
       "      <td>0</td>\n",
       "      <td>26.6</td>\n",
       "      <td>0.351</td>\n",
       "      <td>31</td>\n",
       "      <td>0</td>\n",
       "    </tr>\n",
       "    <tr>\n",
       "      <th>2</th>\n",
       "      <td>8</td>\n",
       "      <td>183</td>\n",
       "      <td>64</td>\n",
       "      <td>0</td>\n",
       "      <td>0</td>\n",
       "      <td>23.3</td>\n",
       "      <td>0.672</td>\n",
       "      <td>32</td>\n",
       "      <td>1</td>\n",
       "    </tr>\n",
       "    <tr>\n",
       "      <th>3</th>\n",
       "      <td>1</td>\n",
       "      <td>89</td>\n",
       "      <td>66</td>\n",
       "      <td>23</td>\n",
       "      <td>94</td>\n",
       "      <td>28.1</td>\n",
       "      <td>0.167</td>\n",
       "      <td>21</td>\n",
       "      <td>0</td>\n",
       "    </tr>\n",
       "    <tr>\n",
       "      <th>4</th>\n",
       "      <td>0</td>\n",
       "      <td>137</td>\n",
       "      <td>40</td>\n",
       "      <td>35</td>\n",
       "      <td>168</td>\n",
       "      <td>43.1</td>\n",
       "      <td>2.288</td>\n",
       "      <td>33</td>\n",
       "      <td>1</td>\n",
       "    </tr>\n",
       "  </tbody>\n",
       "</table>\n",
       "</div>"
      ],
      "text/plain": [
       "   pregnancies  glucose  diastolic  triceps  insulin   bmi    dpf  age  \\\n",
       "0            6      148         72       35        0  33.6  0.627   50   \n",
       "1            1       85         66       29        0  26.6  0.351   31   \n",
       "2            8      183         64        0        0  23.3  0.672   32   \n",
       "3            1       89         66       23       94  28.1  0.167   21   \n",
       "4            0      137         40       35      168  43.1  2.288   33   \n",
       "\n",
       "   diabetes  \n",
       "0         1  \n",
       "1         0  \n",
       "2         1  \n",
       "3         0  \n",
       "4         1  "
      ]
     },
     "execution_count": 6,
     "metadata": {},
     "output_type": "execute_result"
    }
   ],
   "source": [
    "diabetes_df.head()"
   ]
  },
  {
   "cell_type": "markdown",
   "metadata": {
    "id": "QeR2usuiAr1l"
   },
   "source": [
    "### Exploratory Data Analysis (EDA)"
   ]
  },
  {
   "cell_type": "code",
   "execution_count": 7,
   "metadata": {
    "colab": {
     "base_uri": "https://localhost:8080/",
     "height": 67
    },
    "executionInfo": {
     "elapsed": 2855,
     "status": "ok",
     "timestamp": 1602166220803,
     "user": {
      "displayName": "Pianalytix Vrec",
      "photoUrl": "",
      "userId": "08286299111597749388"
     },
     "user_tz": -330
    },
    "id": "pSaA6Yh1Ar1m",
    "outputId": "b1929590-51c9-404d-cc0c-e4f765e20e49"
   },
   "outputs": [
    {
     "data": {
      "text/plain": [
       "Index(['pregnancies', 'glucose', 'diastolic', 'triceps', 'insulin', 'bmi',\n",
       "       'dpf', 'age', 'diabetes'],\n",
       "      dtype='object')"
      ]
     },
     "execution_count": 7,
     "metadata": {},
     "output_type": "execute_result"
    }
   ],
   "source": [
    "# Now let' see that what are the columns available in our dataset.\n",
    "diabetes_df.columns"
   ]
  },
  {
   "cell_type": "code",
   "execution_count": 8,
   "metadata": {
    "colab": {
     "base_uri": "https://localhost:8080/",
     "height": 286
    },
    "executionInfo": {
     "elapsed": 1031,
     "status": "ok",
     "timestamp": 1602166241280,
     "user": {
      "displayName": "Pianalytix Vrec",
      "photoUrl": "",
      "userId": "08286299111597749388"
     },
     "user_tz": -330
    },
    "id": "MHs_DnabAr1q",
    "outputId": "88c4b453-e15a-4b48-a7fc-7f62f99be168",
    "scrolled": true
   },
   "outputs": [
    {
     "name": "stdout",
     "output_type": "stream",
     "text": [
      "<class 'pandas.core.frame.DataFrame'>\n",
      "RangeIndex: 768 entries, 0 to 767\n",
      "Data columns (total 9 columns):\n",
      " #   Column       Non-Null Count  Dtype  \n",
      "---  ------       --------------  -----  \n",
      " 0   pregnancies  768 non-null    int64  \n",
      " 1   glucose      768 non-null    int64  \n",
      " 2   diastolic    768 non-null    int64  \n",
      " 3   triceps      768 non-null    int64  \n",
      " 4   insulin      768 non-null    int64  \n",
      " 5   bmi          768 non-null    float64\n",
      " 6   dpf          768 non-null    float64\n",
      " 7   age          768 non-null    int64  \n",
      " 8   diabetes     768 non-null    int64  \n",
      "dtypes: float64(2), int64(7)\n",
      "memory usage: 54.1 KB\n"
     ]
    }
   ],
   "source": [
    "# Information about the dataset\n",
    "diabetes_df.info()"
   ]
  },
  {
   "cell_type": "code",
   "execution_count": 9,
   "metadata": {
    "colab": {
     "base_uri": "https://localhost:8080/",
     "height": 304
    },
    "executionInfo": {
     "elapsed": 941,
     "status": "ok",
     "timestamp": 1602166254704,
     "user": {
      "displayName": "Pianalytix Vrec",
      "photoUrl": "",
      "userId": "08286299111597749388"
     },
     "user_tz": -330
    },
    "id": "tmprOZFZAr1t",
    "outputId": "6b3d8209-68e9-4205-dc08-57044ba5e0df"
   },
   "outputs": [
    {
     "data": {
      "text/html": [
       "<div>\n",
       "<style scoped>\n",
       "    .dataframe tbody tr th:only-of-type {\n",
       "        vertical-align: middle;\n",
       "    }\n",
       "\n",
       "    .dataframe tbody tr th {\n",
       "        vertical-align: top;\n",
       "    }\n",
       "\n",
       "    .dataframe thead th {\n",
       "        text-align: right;\n",
       "    }\n",
       "</style>\n",
       "<table border=\"1\" class=\"dataframe\">\n",
       "  <thead>\n",
       "    <tr style=\"text-align: right;\">\n",
       "      <th></th>\n",
       "      <th>pregnancies</th>\n",
       "      <th>glucose</th>\n",
       "      <th>diastolic</th>\n",
       "      <th>triceps</th>\n",
       "      <th>insulin</th>\n",
       "      <th>bmi</th>\n",
       "      <th>dpf</th>\n",
       "      <th>age</th>\n",
       "      <th>diabetes</th>\n",
       "    </tr>\n",
       "  </thead>\n",
       "  <tbody>\n",
       "    <tr>\n",
       "      <th>count</th>\n",
       "      <td>768.000000</td>\n",
       "      <td>768.000000</td>\n",
       "      <td>768.000000</td>\n",
       "      <td>768.000000</td>\n",
       "      <td>768.000000</td>\n",
       "      <td>768.000000</td>\n",
       "      <td>768.000000</td>\n",
       "      <td>768.000000</td>\n",
       "      <td>768.000000</td>\n",
       "    </tr>\n",
       "    <tr>\n",
       "      <th>mean</th>\n",
       "      <td>3.845052</td>\n",
       "      <td>120.894531</td>\n",
       "      <td>69.105469</td>\n",
       "      <td>20.536458</td>\n",
       "      <td>79.799479</td>\n",
       "      <td>31.992578</td>\n",
       "      <td>0.471876</td>\n",
       "      <td>33.240885</td>\n",
       "      <td>0.348958</td>\n",
       "    </tr>\n",
       "    <tr>\n",
       "      <th>std</th>\n",
       "      <td>3.369578</td>\n",
       "      <td>31.972618</td>\n",
       "      <td>19.355807</td>\n",
       "      <td>15.952218</td>\n",
       "      <td>115.244002</td>\n",
       "      <td>7.884160</td>\n",
       "      <td>0.331329</td>\n",
       "      <td>11.760232</td>\n",
       "      <td>0.476951</td>\n",
       "    </tr>\n",
       "    <tr>\n",
       "      <th>min</th>\n",
       "      <td>0.000000</td>\n",
       "      <td>0.000000</td>\n",
       "      <td>0.000000</td>\n",
       "      <td>0.000000</td>\n",
       "      <td>0.000000</td>\n",
       "      <td>0.000000</td>\n",
       "      <td>0.078000</td>\n",
       "      <td>21.000000</td>\n",
       "      <td>0.000000</td>\n",
       "    </tr>\n",
       "    <tr>\n",
       "      <th>25%</th>\n",
       "      <td>1.000000</td>\n",
       "      <td>99.000000</td>\n",
       "      <td>62.000000</td>\n",
       "      <td>0.000000</td>\n",
       "      <td>0.000000</td>\n",
       "      <td>27.300000</td>\n",
       "      <td>0.243750</td>\n",
       "      <td>24.000000</td>\n",
       "      <td>0.000000</td>\n",
       "    </tr>\n",
       "    <tr>\n",
       "      <th>50%</th>\n",
       "      <td>3.000000</td>\n",
       "      <td>117.000000</td>\n",
       "      <td>72.000000</td>\n",
       "      <td>23.000000</td>\n",
       "      <td>30.500000</td>\n",
       "      <td>32.000000</td>\n",
       "      <td>0.372500</td>\n",
       "      <td>29.000000</td>\n",
       "      <td>0.000000</td>\n",
       "    </tr>\n",
       "    <tr>\n",
       "      <th>75%</th>\n",
       "      <td>6.000000</td>\n",
       "      <td>140.250000</td>\n",
       "      <td>80.000000</td>\n",
       "      <td>32.000000</td>\n",
       "      <td>127.250000</td>\n",
       "      <td>36.600000</td>\n",
       "      <td>0.626250</td>\n",
       "      <td>41.000000</td>\n",
       "      <td>1.000000</td>\n",
       "    </tr>\n",
       "    <tr>\n",
       "      <th>max</th>\n",
       "      <td>17.000000</td>\n",
       "      <td>199.000000</td>\n",
       "      <td>122.000000</td>\n",
       "      <td>99.000000</td>\n",
       "      <td>846.000000</td>\n",
       "      <td>67.100000</td>\n",
       "      <td>2.420000</td>\n",
       "      <td>81.000000</td>\n",
       "      <td>1.000000</td>\n",
       "    </tr>\n",
       "  </tbody>\n",
       "</table>\n",
       "</div>"
      ],
      "text/plain": [
       "       pregnancies     glucose   diastolic     triceps     insulin  \\\n",
       "count   768.000000  768.000000  768.000000  768.000000  768.000000   \n",
       "mean      3.845052  120.894531   69.105469   20.536458   79.799479   \n",
       "std       3.369578   31.972618   19.355807   15.952218  115.244002   \n",
       "min       0.000000    0.000000    0.000000    0.000000    0.000000   \n",
       "25%       1.000000   99.000000   62.000000    0.000000    0.000000   \n",
       "50%       3.000000  117.000000   72.000000   23.000000   30.500000   \n",
       "75%       6.000000  140.250000   80.000000   32.000000  127.250000   \n",
       "max      17.000000  199.000000  122.000000   99.000000  846.000000   \n",
       "\n",
       "              bmi         dpf         age    diabetes  \n",
       "count  768.000000  768.000000  768.000000  768.000000  \n",
       "mean    31.992578    0.471876   33.240885    0.348958  \n",
       "std      7.884160    0.331329   11.760232    0.476951  \n",
       "min      0.000000    0.078000   21.000000    0.000000  \n",
       "25%     27.300000    0.243750   24.000000    0.000000  \n",
       "50%     32.000000    0.372500   29.000000    0.000000  \n",
       "75%     36.600000    0.626250   41.000000    1.000000  \n",
       "max     67.100000    2.420000   81.000000    1.000000  "
      ]
     },
     "execution_count": 9,
     "metadata": {},
     "output_type": "execute_result"
    }
   ],
   "source": [
    "# To know more about the dataset\n",
    "diabetes_df.describe()"
   ]
  },
  {
   "cell_type": "code",
   "execution_count": 10,
   "metadata": {
    "colab": {
     "base_uri": "https://localhost:8080/",
     "height": 402
    },
    "executionInfo": {
     "elapsed": 891,
     "status": "ok",
     "timestamp": 1602166330806,
     "user": {
      "displayName": "Pianalytix Vrec",
      "photoUrl": "",
      "userId": "08286299111597749388"
     },
     "user_tz": -330
    },
    "id": "-j4w2ZU_Ar12",
    "outputId": "06c2495a-7ea0-41d7-a425-3ed4244800dd",
    "scrolled": true
   },
   "outputs": [
    {
     "data": {
      "text/html": [
       "<div>\n",
       "<style scoped>\n",
       "    .dataframe tbody tr th:only-of-type {\n",
       "        vertical-align: middle;\n",
       "    }\n",
       "\n",
       "    .dataframe tbody tr th {\n",
       "        vertical-align: top;\n",
       "    }\n",
       "\n",
       "    .dataframe thead th {\n",
       "        text-align: right;\n",
       "    }\n",
       "</style>\n",
       "<table border=\"1\" class=\"dataframe\">\n",
       "  <thead>\n",
       "    <tr style=\"text-align: right;\">\n",
       "      <th></th>\n",
       "      <th>pregnancies</th>\n",
       "      <th>glucose</th>\n",
       "      <th>diastolic</th>\n",
       "      <th>triceps</th>\n",
       "      <th>insulin</th>\n",
       "      <th>bmi</th>\n",
       "      <th>dpf</th>\n",
       "      <th>age</th>\n",
       "      <th>diabetes</th>\n",
       "    </tr>\n",
       "  </thead>\n",
       "  <tbody>\n",
       "    <tr>\n",
       "      <th>0</th>\n",
       "      <td>False</td>\n",
       "      <td>False</td>\n",
       "      <td>False</td>\n",
       "      <td>False</td>\n",
       "      <td>False</td>\n",
       "      <td>False</td>\n",
       "      <td>False</td>\n",
       "      <td>False</td>\n",
       "      <td>False</td>\n",
       "    </tr>\n",
       "    <tr>\n",
       "      <th>1</th>\n",
       "      <td>False</td>\n",
       "      <td>False</td>\n",
       "      <td>False</td>\n",
       "      <td>False</td>\n",
       "      <td>False</td>\n",
       "      <td>False</td>\n",
       "      <td>False</td>\n",
       "      <td>False</td>\n",
       "      <td>False</td>\n",
       "    </tr>\n",
       "    <tr>\n",
       "      <th>2</th>\n",
       "      <td>False</td>\n",
       "      <td>False</td>\n",
       "      <td>False</td>\n",
       "      <td>False</td>\n",
       "      <td>False</td>\n",
       "      <td>False</td>\n",
       "      <td>False</td>\n",
       "      <td>False</td>\n",
       "      <td>False</td>\n",
       "    </tr>\n",
       "    <tr>\n",
       "      <th>3</th>\n",
       "      <td>False</td>\n",
       "      <td>False</td>\n",
       "      <td>False</td>\n",
       "      <td>False</td>\n",
       "      <td>False</td>\n",
       "      <td>False</td>\n",
       "      <td>False</td>\n",
       "      <td>False</td>\n",
       "      <td>False</td>\n",
       "    </tr>\n",
       "    <tr>\n",
       "      <th>4</th>\n",
       "      <td>False</td>\n",
       "      <td>False</td>\n",
       "      <td>False</td>\n",
       "      <td>False</td>\n",
       "      <td>False</td>\n",
       "      <td>False</td>\n",
       "      <td>False</td>\n",
       "      <td>False</td>\n",
       "      <td>False</td>\n",
       "    </tr>\n",
       "    <tr>\n",
       "      <th>5</th>\n",
       "      <td>False</td>\n",
       "      <td>False</td>\n",
       "      <td>False</td>\n",
       "      <td>False</td>\n",
       "      <td>False</td>\n",
       "      <td>False</td>\n",
       "      <td>False</td>\n",
       "      <td>False</td>\n",
       "      <td>False</td>\n",
       "    </tr>\n",
       "    <tr>\n",
       "      <th>6</th>\n",
       "      <td>False</td>\n",
       "      <td>False</td>\n",
       "      <td>False</td>\n",
       "      <td>False</td>\n",
       "      <td>False</td>\n",
       "      <td>False</td>\n",
       "      <td>False</td>\n",
       "      <td>False</td>\n",
       "      <td>False</td>\n",
       "    </tr>\n",
       "    <tr>\n",
       "      <th>7</th>\n",
       "      <td>False</td>\n",
       "      <td>False</td>\n",
       "      <td>False</td>\n",
       "      <td>False</td>\n",
       "      <td>False</td>\n",
       "      <td>False</td>\n",
       "      <td>False</td>\n",
       "      <td>False</td>\n",
       "      <td>False</td>\n",
       "    </tr>\n",
       "    <tr>\n",
       "      <th>8</th>\n",
       "      <td>False</td>\n",
       "      <td>False</td>\n",
       "      <td>False</td>\n",
       "      <td>False</td>\n",
       "      <td>False</td>\n",
       "      <td>False</td>\n",
       "      <td>False</td>\n",
       "      <td>False</td>\n",
       "      <td>False</td>\n",
       "    </tr>\n",
       "    <tr>\n",
       "      <th>9</th>\n",
       "      <td>False</td>\n",
       "      <td>False</td>\n",
       "      <td>False</td>\n",
       "      <td>False</td>\n",
       "      <td>False</td>\n",
       "      <td>False</td>\n",
       "      <td>False</td>\n",
       "      <td>False</td>\n",
       "      <td>False</td>\n",
       "    </tr>\n",
       "  </tbody>\n",
       "</table>\n",
       "</div>"
      ],
      "text/plain": [
       "   pregnancies  glucose  diastolic  triceps  insulin    bmi    dpf    age  \\\n",
       "0        False    False      False    False    False  False  False  False   \n",
       "1        False    False      False    False    False  False  False  False   \n",
       "2        False    False      False    False    False  False  False  False   \n",
       "3        False    False      False    False    False  False  False  False   \n",
       "4        False    False      False    False    False  False  False  False   \n",
       "5        False    False      False    False    False  False  False  False   \n",
       "6        False    False      False    False    False  False  False  False   \n",
       "7        False    False      False    False    False  False  False  False   \n",
       "8        False    False      False    False    False  False  False  False   \n",
       "9        False    False      False    False    False  False  False  False   \n",
       "\n",
       "   diabetes  \n",
       "0     False  \n",
       "1     False  \n",
       "2     False  \n",
       "3     False  \n",
       "4     False  \n",
       "5     False  \n",
       "6     False  \n",
       "7     False  \n",
       "8     False  \n",
       "9     False  "
      ]
     },
     "execution_count": 10,
     "metadata": {},
     "output_type": "execute_result"
    }
   ],
   "source": [
    "# Now let's check that if our dataset have null values or not\n",
    "diabetes_df.isnull().head(10)"
   ]
  },
  {
   "cell_type": "code",
   "execution_count": 11,
   "metadata": {
    "colab": {
     "base_uri": "https://localhost:8080/",
     "height": 185
    },
    "executionInfo": {
     "elapsed": 1189,
     "status": "ok",
     "timestamp": 1602166343062,
     "user": {
      "displayName": "Pianalytix Vrec",
      "photoUrl": "",
      "userId": "08286299111597749388"
     },
     "user_tz": -330
    },
    "id": "MNgjCZulAr2Y",
    "outputId": "8139b7b6-b9b5-48de-98c7-a639ba937b29"
   },
   "outputs": [
    {
     "data": {
      "text/plain": [
       "pregnancies    0\n",
       "glucose        0\n",
       "diastolic      0\n",
       "triceps        0\n",
       "insulin        0\n",
       "bmi            0\n",
       "dpf            0\n",
       "age            0\n",
       "diabetes       0\n",
       "dtype: int64"
      ]
     },
     "execution_count": 11,
     "metadata": {},
     "output_type": "execute_result"
    }
   ],
   "source": [
    "# Now let's check that if our dataset have null values or not\n",
    "diabetes_df.isnull().sum()"
   ]
  },
  {
   "cell_type": "markdown",
   "metadata": {
    "id": "JN4JMnJ8Ar2c"
   },
   "source": [
    "Here from above code we first checked that is there any null values from isnull() function then we are going to take the sum of all those missing values from sum() function and the inference we now get is that there are no missing values but that is actually not a true story as in this particular dataset all the missing values were given the 0 as value which is not good for the authenticity of the dataset.\n",
    "Hence we will first replace the 0 value to NAN value then start the imputation process."
   ]
  },
  {
   "cell_type": "code",
   "execution_count": 12,
   "metadata": {
    "colab": {
     "base_uri": "https://localhost:8080/",
     "height": 185
    },
    "executionInfo": {
     "elapsed": 1167,
     "status": "ok",
     "timestamp": 1602166420672,
     "user": {
      "displayName": "Pianalytix Vrec",
      "photoUrl": "",
      "userId": "08286299111597749388"
     },
     "user_tz": -330
    },
    "id": "iVJMj97Yjznb",
    "outputId": "b1c27d32-919f-4f1e-b44e-0b0763d37058"
   },
   "outputs": [
    {
     "name": "stdout",
     "output_type": "stream",
     "text": [
      "pregnancies      0\n",
      "glucose          5\n",
      "diastolic       35\n",
      "triceps        227\n",
      "insulin        374\n",
      "bmi             11\n",
      "dpf              0\n",
      "age              0\n",
      "diabetes         0\n",
      "dtype: int64\n"
     ]
    }
   ],
   "source": [
    "diabetes_df_copy = diabetes_df.copy(deep = True)\n",
    "diabetes_df_copy[['glucose','diastolic','triceps','insulin','bmi']] = diabetes_df_copy[[ 'glucose','diastolic','triceps','insulin','bmi']].replace(0,np.NaN)\n",
    "\n",
    "# Showing the Count of NANs\n",
    "print(diabetes_df_copy.isnull().sum())"
   ]
  },
  {
   "cell_type": "markdown",
   "metadata": {},
   "source": [
    "As mentioned above that now we will be replacing the zeros with the NAN values so that we can impute it later to maintain the authenticity of the dataset as well as trying to have better Imputation approach i.e to apply mean values of each column to the null values of the respectove columns."
   ]
  },
  {
   "cell_type": "markdown",
   "metadata": {
    "id": "uo5cWaKxAr2f"
   },
   "source": [
    "### Data Visualization"
   ]
  },
  {
   "cell_type": "code",
   "execution_count": 13,
   "metadata": {
    "colab": {
     "base_uri": "https://localhost:8080/",
     "height": 965
    },
    "executionInfo": {
     "elapsed": 4026,
     "status": "ok",
     "timestamp": 1602166478195,
     "user": {
      "displayName": "Pianalytix Vrec",
      "photoUrl": "",
      "userId": "08286299111597749388"
     },
     "user_tz": -330
    },
    "id": "0syLRpeoAr2g",
    "outputId": "ee5b6b15-0444-48d5-f23e-e800e54fcb1c"
   },
   "outputs": [
    {
     "data": {
      "image/png": "[encoded data removed]",
      "text/plain": [
       "<Figure size 2000x2000 with 9 Axes>"
      ]
     },
     "metadata": {},
     "output_type": "display_data"
    }
   ],
   "source": [
    "# Plotting the data distribution plots before removing null values \n",
    "p = diabetes_df.hist(figsize = (20,20))"
   ]
  },
  {
   "cell_type": "markdown",
   "metadata": {},
   "source": [
    "So here we have seen the distribution of each features whether it is dependent data aur independent data and one thing which could always strikes that why do we need to see the distribution of data ? So the ans is simple it is the best way to start the analysis of the dataset as it shows the occurence of evry kind of value in the graphical structure which in turn let us know the range of the data "
   ]
  },
  {
   "cell_type": "code",
   "execution_count": 14,
   "metadata": {
    "executionInfo": {
     "elapsed": 883,
     "status": "ok",
     "timestamp": 1602166693454,
     "user": {
      "displayName": "Pianalytix Vrec",
      "photoUrl": "",
      "userId": "08286299111597749388"
     },
     "user_tz": -330
    },
    "id": "OHVOnOUGAr2i"
   },
   "outputs": [],
   "source": [
    "# Now we will be imputing the mean value of the column to each missing value of that particular column\n",
    "diabetes_df_copy['glucose'].fillna(diabetes_df_copy['glucose'].mean(), inplace = True)\n",
    "diabetes_df_copy['diastolic'].fillna(diabetes_df_copy['diastolic'].mean(), inplace = True)\n",
    "diabetes_df_copy['triceps'].fillna(diabetes_df_copy['triceps'].median(), inplace = True)\n",
    "diabetes_df_copy['insulin'].fillna(diabetes_df_copy['insulin'].median(), inplace = True)\n",
    "diabetes_df_copy['bmi'].fillna(diabetes_df_copy['bmi'].median(), inplace = True)"
   ]
  },
  {
   "cell_type": "code",
   "execution_count": 15,
   "metadata": {
    "colab": {
     "base_uri": "https://localhost:8080/",
     "height": 969
    },
    "executionInfo": {
     "elapsed": 3939,
     "status": "ok",
     "timestamp": 1602166700697,
     "user": {
      "displayName": "Pianalytix Vrec",
      "photoUrl": "",
      "userId": "08286299111597749388"
     },
     "user_tz": -330
    },
    "id": "wGKS-cWMAr2n",
    "outputId": "ea9f098b-b4f8-49c6-fb19-b58bc691d610"
   },
   "outputs": [
    {
     "data": {
      "image/png": "[encoded data removed]",
      "text/plain": [
       "<Figure size 2000x2000 with 9 Axes>"
      ]
     },
     "metadata": {},
     "output_type": "display_data"
    }
   ],
   "source": [
    "# Plotting the distributions after removing the NAN values\n",
    "p = diabetes_df_copy.hist(figsize = (20,20))"
   ]
  },
  {
   "cell_type": "markdown",
   "metadata": {},
   "source": [
    "Here we are again using the hist plot to see the distribution of the dataset but this time we are using this visualization to see the changes that we can see after those null values are removed from the dataset and we can clearly see the difference for example - In age column after removal of the null values we can see that there is a spike at the range of 50 to 100 which is quite logical as well."
   ]
  },
  {
   "cell_type": "markdown",
   "metadata": {},
   "source": [
    "Inference : Now in the above graph also we can clearly see that there are no null values in the dataset"
   ]
  },
  {
   "cell_type": "code",
   "execution_count": 18,
   "metadata": {
    "colab": {
     "base_uri": "https://localhost:8080/",
     "height": 315
    },
    "executionInfo": {
     "elapsed": 1047,
     "status": "ok",
     "timestamp": 1602166831543,
     "user": {
      "displayName": "Pianalytix Vrec",
      "photoUrl": "",
      "userId": "08286299111597749388"
     },
     "user_tz": -330
    },
    "id": "ujMj1uapAr2t",
    "outputId": "89838d1c-4497-4429-a7a2-1bff92261751"
   },
   "outputs": [
    {
     "name": "stdout",
     "output_type": "stream",
     "text": [
      "0    500\n",
      "1    268\n",
      "Name: diabetes, dtype: int64\n"
     ]
    },
    {
     "data": {
      "image/png": "[encoded data removed]",
      "text/plain": [
       "<Figure size 640x480 with 1 Axes>"
      ]
     },
     "metadata": {},
     "output_type": "display_data"
    }
   ],
   "source": [
    "# Now, let's check that how well our outcome column is balanced\n",
    "color_wheel = {1: \"#0392cf\", 2: \"#7bc043\"}\n",
    "colors = diabetes_df[\"diabetes\"].map(lambda x: color_wheel.get(x + 1))\n",
    "print(diabetes_df.diabetes.value_counts())\n",
    "p=diabetes_df.diabetes.value_counts().plot(kind=\"bar\")"
   ]
  },
  {
   "cell_type": "markdown",
   "metadata": {
    "id": "ydq7MROvAr2v"
   },
   "source": [
    "Inference : Here from the above visualization it is clearly visible that our dataset is completely imbalanced infact the number of patient who is diabetic is half of the patients who are non-diabetic"
   ]
  },
  {
   "cell_type": "code",
   "execution_count": 19,
   "metadata": {
    "scrolled": true
   },
   "outputs": [
    {
     "data": {
      "image/png": "[encoded data removed]",
      "text/plain": [
       "<Figure size 1600x500 with 2 Axes>"
      ]
     },
     "metadata": {},
     "output_type": "display_data"
    }
   ],
   "source": [
    "plt.subplot(121), sns.distplot(diabetes_df['insulin'])\n",
    "plt.subplot(122), diabetes_df['insulin'].plot.box(figsize=(16,5))\n",
    "plt.show()"
   ]
  },
  {
   "cell_type": "markdown",
   "metadata": {},
   "source": [
    "That's how distplot can be helpful where one will able to see the distribution of the data as well as with the help of boxplot one can see the outliers in that column and other information too which can be derieved by the box and whiskers plot"
   ]
  },
  {
   "cell_type": "markdown",
   "metadata": {
    "id": "xDFoT7GhAr2z"
   },
   "source": [
    "### Correlation between all the features"
   ]
  },
  {
   "cell_type": "code",
   "execution_count": 20,
   "metadata": {
    "colab": {
     "base_uri": "https://localhost:8080/",
     "height": 733
    },
    "executionInfo": {
     "elapsed": 1648,
     "status": "ok",
     "timestamp": 1602167181418,
     "user": {
      "displayName": "Pianalytix Vrec",
      "photoUrl": "",
      "userId": "08286299111597749388"
     },
     "user_tz": -330
    },
    "id": "g4xxsYOZAr20",
    "outputId": "fdd02c2a-44c3-4580-8603-6038d2f0ef2b"
   },
   "outputs": [
    {
     "data": {
      "image/png": "[encoded data removed]",
      "text/plain": [
       "<Figure size 1200x1000 with 2 Axes>"
      ]
     },
     "metadata": {},
     "output_type": "display_data"
    }
   ],
   "source": [
    "# Correlation between all the features before cleaning\n",
    "plt.figure(figsize=(12,10))\n",
    "p = sns.heatmap(diabetes_df.corr(), annot=True,cmap ='RdYlGn')  # seaborn has an easy method to showcase heatmap"
   ]
  },
  {
   "cell_type": "markdown",
   "metadata": {
    "id": "6sTgsL6LAr26"
   },
   "source": [
    "### Scaling the data"
   ]
  },
  {
   "cell_type": "code",
   "execution_count": 21,
   "metadata": {
    "colab": {
     "base_uri": "https://localhost:8080/",
     "height": 195
    },
    "executionInfo": {
     "elapsed": 1649,
     "status": "ok",
     "timestamp": 1602167366838,
     "user": {
      "displayName": "Pianalytix Vrec",
      "photoUrl": "",
      "userId": "08286299111597749388"
     },
     "user_tz": -330
    },
    "id": "uVlqDP-vnaSy",
    "outputId": "329fe84a-1de6-41fc-8085-c08ecf155ac5"
   },
   "outputs": [
    {
     "data": {
      "text/html": [
       "<div>\n",
       "<style scoped>\n",
       "    .dataframe tbody tr th:only-of-type {\n",
       "        vertical-align: middle;\n",
       "    }\n",
       "\n",
       "    .dataframe tbody tr th {\n",
       "        vertical-align: top;\n",
       "    }\n",
       "\n",
       "    .dataframe thead th {\n",
       "        text-align: right;\n",
       "    }\n",
       "</style>\n",
       "<table border=\"1\" class=\"dataframe\">\n",
       "  <thead>\n",
       "    <tr style=\"text-align: right;\">\n",
       "      <th></th>\n",
       "      <th>pregnancies</th>\n",
       "      <th>glucose</th>\n",
       "      <th>diastolic</th>\n",
       "      <th>triceps</th>\n",
       "      <th>insulin</th>\n",
       "      <th>bmi</th>\n",
       "      <th>dpf</th>\n",
       "      <th>age</th>\n",
       "      <th>diabetes</th>\n",
       "    </tr>\n",
       "  </thead>\n",
       "  <tbody>\n",
       "    <tr>\n",
       "      <th>0</th>\n",
       "      <td>6</td>\n",
       "      <td>148.0</td>\n",
       "      <td>72.0</td>\n",
       "      <td>35.0</td>\n",
       "      <td>125.0</td>\n",
       "      <td>33.6</td>\n",
       "      <td>0.627</td>\n",
       "      <td>50</td>\n",
       "      <td>1</td>\n",
       "    </tr>\n",
       "    <tr>\n",
       "      <th>1</th>\n",
       "      <td>1</td>\n",
       "      <td>85.0</td>\n",
       "      <td>66.0</td>\n",
       "      <td>29.0</td>\n",
       "      <td>125.0</td>\n",
       "      <td>26.6</td>\n",
       "      <td>0.351</td>\n",
       "      <td>31</td>\n",
       "      <td>0</td>\n",
       "    </tr>\n",
       "    <tr>\n",
       "      <th>2</th>\n",
       "      <td>8</td>\n",
       "      <td>183.0</td>\n",
       "      <td>64.0</td>\n",
       "      <td>29.0</td>\n",
       "      <td>125.0</td>\n",
       "      <td>23.3</td>\n",
       "      <td>0.672</td>\n",
       "      <td>32</td>\n",
       "      <td>1</td>\n",
       "    </tr>\n",
       "    <tr>\n",
       "      <th>3</th>\n",
       "      <td>1</td>\n",
       "      <td>89.0</td>\n",
       "      <td>66.0</td>\n",
       "      <td>23.0</td>\n",
       "      <td>94.0</td>\n",
       "      <td>28.1</td>\n",
       "      <td>0.167</td>\n",
       "      <td>21</td>\n",
       "      <td>0</td>\n",
       "    </tr>\n",
       "    <tr>\n",
       "      <th>4</th>\n",
       "      <td>0</td>\n",
       "      <td>137.0</td>\n",
       "      <td>40.0</td>\n",
       "      <td>35.0</td>\n",
       "      <td>168.0</td>\n",
       "      <td>43.1</td>\n",
       "      <td>2.288</td>\n",
       "      <td>33</td>\n",
       "      <td>1</td>\n",
       "    </tr>\n",
       "  </tbody>\n",
       "</table>\n",
       "</div>"
      ],
      "text/plain": [
       "   pregnancies  glucose  diastolic  triceps  insulin   bmi    dpf  age  \\\n",
       "0            6    148.0       72.0     35.0    125.0  33.6  0.627   50   \n",
       "1            1     85.0       66.0     29.0    125.0  26.6  0.351   31   \n",
       "2            8    183.0       64.0     29.0    125.0  23.3  0.672   32   \n",
       "3            1     89.0       66.0     23.0     94.0  28.1  0.167   21   \n",
       "4            0    137.0       40.0     35.0    168.0  43.1  2.288   33   \n",
       "\n",
       "   diabetes  \n",
       "0         1  \n",
       "1         0  \n",
       "2         1  \n",
       "3         0  \n",
       "4         1  "
      ]
     },
     "execution_count": 21,
     "metadata": {},
     "output_type": "execute_result"
    }
   ],
   "source": [
    "diabetes_df_copy.head()"
   ]
  },
  {
   "cell_type": "code",
   "execution_count": 22,
   "metadata": {
    "colab": {
     "base_uri": "https://localhost:8080/",
     "height": 195
    },
    "executionInfo": {
     "elapsed": 887,
     "status": "ok",
     "timestamp": 1602167450029,
     "user": {
      "displayName": "Pianalytix Vrec",
      "photoUrl": "",
      "userId": "08286299111597749388"
     },
     "user_tz": -330
    },
    "id": "k9WqBcZNAr27",
    "outputId": "32e3b8fd-57fd-4c6a-b3c0-fac1a837f885"
   },
   "outputs": [
    {
     "data": {
      "text/html": [
       "<div>\n",
       "<style scoped>\n",
       "    .dataframe tbody tr th:only-of-type {\n",
       "        vertical-align: middle;\n",
       "    }\n",
       "\n",
       "    .dataframe tbody tr th {\n",
       "        vertical-align: top;\n",
       "    }\n",
       "\n",
       "    .dataframe thead th {\n",
       "        text-align: right;\n",
       "    }\n",
       "</style>\n",
       "<table border=\"1\" class=\"dataframe\">\n",
       "  <thead>\n",
       "    <tr style=\"text-align: right;\">\n",
       "      <th></th>\n",
       "      <th>pregnancies</th>\n",
       "      <th>glucose</th>\n",
       "      <th>diastolic</th>\n",
       "      <th>triceps</th>\n",
       "      <th>insulin</th>\n",
       "      <th>bmi</th>\n",
       "      <th>dpf</th>\n",
       "      <th>age</th>\n",
       "    </tr>\n",
       "  </thead>\n",
       "  <tbody>\n",
       "    <tr>\n",
       "      <th>0</th>\n",
       "      <td>0.639947</td>\n",
       "      <td>0.865108</td>\n",
       "      <td>-0.033518</td>\n",
       "      <td>0.670643</td>\n",
       "      <td>-0.181541</td>\n",
       "      <td>0.166619</td>\n",
       "      <td>0.468492</td>\n",
       "      <td>1.425995</td>\n",
       "    </tr>\n",
       "    <tr>\n",
       "      <th>1</th>\n",
       "      <td>-0.844885</td>\n",
       "      <td>-1.206162</td>\n",
       "      <td>-0.529859</td>\n",
       "      <td>-0.012301</td>\n",
       "      <td>-0.181541</td>\n",
       "      <td>-0.852200</td>\n",
       "      <td>-0.365061</td>\n",
       "      <td>-0.190672</td>\n",
       "    </tr>\n",
       "    <tr>\n",
       "      <th>2</th>\n",
       "      <td>1.233880</td>\n",
       "      <td>2.015813</td>\n",
       "      <td>-0.695306</td>\n",
       "      <td>-0.012301</td>\n",
       "      <td>-0.181541</td>\n",
       "      <td>-1.332500</td>\n",
       "      <td>0.604397</td>\n",
       "      <td>-0.105584</td>\n",
       "    </tr>\n",
       "    <tr>\n",
       "      <th>3</th>\n",
       "      <td>-0.844885</td>\n",
       "      <td>-1.074652</td>\n",
       "      <td>-0.529859</td>\n",
       "      <td>-0.695245</td>\n",
       "      <td>-0.540642</td>\n",
       "      <td>-0.633881</td>\n",
       "      <td>-0.920763</td>\n",
       "      <td>-1.041549</td>\n",
       "    </tr>\n",
       "    <tr>\n",
       "      <th>4</th>\n",
       "      <td>-1.141852</td>\n",
       "      <td>0.503458</td>\n",
       "      <td>-2.680669</td>\n",
       "      <td>0.670643</td>\n",
       "      <td>0.316566</td>\n",
       "      <td>1.549303</td>\n",
       "      <td>5.484909</td>\n",
       "      <td>-0.020496</td>\n",
       "    </tr>\n",
       "  </tbody>\n",
       "</table>\n",
       "</div>"
      ],
      "text/plain": [
       "   pregnancies   glucose  diastolic   triceps   insulin       bmi       dpf  \\\n",
       "0     0.639947  0.865108  -0.033518  0.670643 -0.181541  0.166619  0.468492   \n",
       "1    -0.844885 -1.206162  -0.529859 -0.012301 -0.181541 -0.852200 -0.365061   \n",
       "2     1.233880  2.015813  -0.695306 -0.012301 -0.181541 -1.332500  0.604397   \n",
       "3    -0.844885 -1.074652  -0.529859 -0.695245 -0.540642 -0.633881 -0.920763   \n",
       "4    -1.141852  0.503458  -2.680669  0.670643  0.316566  1.549303  5.484909   \n",
       "\n",
       "        age  \n",
       "0  1.425995  \n",
       "1 -0.190672  \n",
       "2 -0.105584  \n",
       "3 -1.041549  \n",
       "4 -0.020496  "
      ]
     },
     "execution_count": 22,
     "metadata": {},
     "output_type": "execute_result"
    }
   ],
   "source": [
    "sc_X = StandardScaler()\n",
    "X =  pd.DataFrame(sc_X.fit_transform(diabetes_df_copy.drop([\"diabetes\"],axis = 1),), columns=['pregnancies', 'glucose', 'diastolic', 'triceps', 'insulin', 'bmi', 'dpf', 'age'])\n",
    "X.head()"
   ]
  },
  {
   "cell_type": "markdown",
   "metadata": {
    "id": "cl1025QHnvyz"
   },
   "source": [
    "That's how our dataset will be looking like when it is scaled down or we can see every value now is on the same scale which will help our ML model to give better result"
   ]
  },
  {
   "cell_type": "code",
   "execution_count": 23,
   "metadata": {
    "executionInfo": {
     "elapsed": 784,
     "status": "ok",
     "timestamp": 1602167470665,
     "user": {
      "displayName": "Pianalytix Vrec",
      "photoUrl": "",
      "userId": "08286299111597749388"
     },
     "user_tz": -330
    },
    "id": "a8845oXHAr29"
   },
   "outputs": [],
   "source": [
    "y = diabetes_df_copy.diabetes"
   ]
  },
  {
   "cell_type": "code",
   "execution_count": 24,
   "metadata": {
    "colab": {
     "base_uri": "https://localhost:8080/",
     "height": 218
    },
    "executionInfo": {
     "elapsed": 934,
     "status": "ok",
     "timestamp": 1602167478444,
     "user": {
      "displayName": "Pianalytix Vrec",
      "photoUrl": "",
      "userId": "08286299111597749388"
     },
     "user_tz": -330
    },
    "id": "1z4HyJbBn4mB",
    "outputId": "6437e73d-989e-4b00-bb28-eaee44c379f3"
   },
   "outputs": [
    {
     "data": {
      "text/plain": [
       "0      1\n",
       "1      0\n",
       "2      1\n",
       "3      0\n",
       "4      1\n",
       "      ..\n",
       "763    0\n",
       "764    0\n",
       "765    0\n",
       "766    1\n",
       "767    0\n",
       "Name: diabetes, Length: 768, dtype: int64"
      ]
     },
     "execution_count": 24,
     "metadata": {},
     "output_type": "execute_result"
    }
   ],
   "source": [
    "y"
   ]
  },
  {
   "cell_type": "markdown",
   "metadata": {},
   "source": [
    "# Model Building"
   ]
  },
  {
   "cell_type": "markdown",
   "metadata": {
    "id": "GhC4nyBwAr3A"
   },
   "source": [
    "### Splitting the dataset"
   ]
  },
  {
   "cell_type": "code",
   "execution_count": 25,
   "metadata": {},
   "outputs": [],
   "source": [
    "#Splitting the dataset\n",
    "\n",
    "X = diabetes_df.drop('diabetes', axis=1)\n",
    "y = diabetes_df['diabetes']"
   ]
  },
  {
   "cell_type": "code",
   "execution_count": 26,
   "metadata": {},
   "outputs": [],
   "source": [
    "from sklearn.model_selection import train_test_split, GridSearchCV, cross_val_score\n",
    "\n",
    "X_train, X_test, y_train, y_test = train_test_split(X,y, test_size=0.33,\n",
    "                                                    random_state=7)"
   ]
  },
  {
   "cell_type": "code",
   "execution_count": 28,
   "metadata": {},
   "outputs": [
    {
     "name": "stdout",
     "output_type": "stream",
     "text": [
      "Total number of rows: {0} 768\n",
      "Number of rows missing Pregnancies: {0} 111\n",
      "Number of rows missing Glucose: {0} 5\n",
      "Number of rows missing BloodPressure: {0} 35\n",
      "Number of rows missing SkinThickness: {0} 227\n",
      "Number of rows missing Insulin: {0} 374\n",
      "Number of rows missing BMI: {0} 11\n",
      "Number of rows missing DiabetesPedigreeFunction: {0} 0\n",
      "Number of rows missing Age: {0} 0\n"
     ]
    }
   ],
   "source": [
    "#Check columns with zero values - checking this time so that right data should go for model training\n",
    "\n",
    "print(\"Total number of rows: {0}\", format(len(diabetes_df)))\n",
    "print(\"Number of rows missing Pregnancies: {0}\",\n",
    "      format(len(diabetes_df.loc[diabetes_df['pregnancies']==0])))\n",
    "print(\"Number of rows missing Glucose: {0}\"\n",
    "      , format(len(diabetes_df.loc[diabetes_df['glucose']==0])))\n",
    "print(\"Number of rows missing BloodPressure: {0}\",\n",
    "      format(len(diabetes_df.loc[diabetes_df['diastolic']==0])))\n",
    "print(\"Number of rows missing SkinThickness: {0}\",\n",
    "      format(len(diabetes_df.loc[diabetes_df['triceps']==0])))\n",
    "print(\"Number of rows missing Insulin: {0}\",\n",
    "      format(len(diabetes_df.loc[diabetes_df['insulin']==0])))\n",
    "print(\"Number of rows missing BMI: {0}\",\n",
    "      format(len(diabetes_df.loc[diabetes_df['bmi']==0])))\n",
    "print(\"Number of rows missing DiabetesPedigreeFunction: {0}\",\n",
    "      format(len(diabetes_df.loc[diabetes_df['dpf']==0])))\n",
    "print(\"Number of rows missing Age: {0}\", format(len(diabetes_df.loc[diabetes_df['age']==0])))"
   ]
  },
  {
   "cell_type": "code",
   "execution_count": 29,
   "metadata": {},
   "outputs": [],
   "source": [
    "#Imputing zeros values in the dataset\n",
    "\n",
    "from sklearn.impute import SimpleImputer\n",
    "import numpy as np\n",
    "\n",
    "fill_values = SimpleImputer(missing_values=0, strategy='mean')\n",
    "X_train = fill_values.fit_transform(X_train)\n",
    "X_test = fill_values.fit_transform(X_test)"
   ]
  },
  {
   "cell_type": "code",
   "execution_count": 30,
   "metadata": {},
   "outputs": [
    {
     "data": {
      "text/plain": [
       "RandomForestClassifier(n_estimators=200)"
      ]
     },
     "execution_count": 30,
     "metadata": {},
     "output_type": "execute_result"
    }
   ],
   "source": [
    "#Builidng the model using RandomForest\n",
    "\n",
    "from sklearn.ensemble import RandomForestClassifier\n",
    "\n",
    "rfc = RandomForestClassifier(n_estimators=200)\n",
    "rfc.fit(X_train, y_train)"
   ]
  },
  {
   "cell_type": "code",
   "execution_count": 31,
   "metadata": {},
   "outputs": [
    {
     "name": "stdout",
     "output_type": "stream",
     "text": [
      "Accuracy_Score = 1.0\n"
     ]
    }
   ],
   "source": [
    "# On training data\n",
    "rfc_train = rfc.predict(X_train)\n",
    "from sklearn import metrics\n",
    "\n",
    "print(\"Accuracy_Score =\", format(metrics.accuracy_score(y_train, rfc_train)))"
   ]
  },
  {
   "cell_type": "code",
   "execution_count": 32,
   "metadata": {},
   "outputs": [],
   "source": [
    "predictions = rfc.predict(X_test)"
   ]
  },
  {
   "cell_type": "code",
   "execution_count": 33,
   "metadata": {},
   "outputs": [
    {
     "name": "stdout",
     "output_type": "stream",
     "text": [
      "Accuracy_Score = 0.7637795275590551\n"
     ]
    }
   ],
   "source": [
    "#Getting the accuracy score for Random Forest\n",
    "\n",
    "from sklearn import metrics\n",
    "\n",
    "print(\"Accuracy_Score =\", format(metrics.accuracy_score(y_test, predictions)))"
   ]
  },
  {
   "cell_type": "code",
   "execution_count": 34,
   "metadata": {},
   "outputs": [
    {
     "name": "stdout",
     "output_type": "stream",
     "text": [
      "[[132  30]\n",
      " [ 30  62]]\n",
      "              precision    recall  f1-score   support\n",
      "\n",
      "           0       0.81      0.81      0.81       162\n",
      "           1       0.67      0.67      0.67        92\n",
      "\n",
      "    accuracy                           0.76       254\n",
      "   macro avg       0.74      0.74      0.74       254\n",
      "weighted avg       0.76      0.76      0.76       254\n",
      "\n"
     ]
    }
   ],
   "source": [
    "from sklearn.metrics import classification_report, confusion_matrix\n",
    "\n",
    "print(confusion_matrix(y_test, predictions))\n",
    "print(classification_report(y_test,predictions))"
   ]
  },
  {
   "cell_type": "code",
   "execution_count": 35,
   "metadata": {},
   "outputs": [
    {
     "data": {
      "text/plain": [
       "DecisionTreeClassifier()"
      ]
     },
     "execution_count": 35,
     "metadata": {},
     "output_type": "execute_result"
    }
   ],
   "source": [
    "#Building the model using DecisionTree\n",
    "\n",
    "from sklearn.tree import DecisionTreeClassifier\n",
    "\n",
    "dtree = DecisionTreeClassifier()\n",
    "dtree.fit(X_train, y_train)"
   ]
  },
  {
   "cell_type": "code",
   "execution_count": 36,
   "metadata": {},
   "outputs": [],
   "source": [
    "predictions = dtree.predict(X_test)"
   ]
  },
  {
   "cell_type": "code",
   "execution_count": 37,
   "metadata": {},
   "outputs": [
    {
     "name": "stdout",
     "output_type": "stream",
     "text": [
      "Accuracy Score = 0.7559055118110236\n"
     ]
    }
   ],
   "source": [
    "#Getting the accuracy score for Decision Tree\n",
    "\n",
    "from sklearn import metrics\n",
    "\n",
    "print(\"Accuracy Score =\", format(metrics.accuracy_score(y_test,predictions)))"
   ]
  },
  {
   "cell_type": "code",
   "execution_count": 38,
   "metadata": {},
   "outputs": [
    {
     "name": "stdout",
     "output_type": "stream",
     "text": [
      "[[126  36]\n",
      " [ 26  66]]\n",
      "              precision    recall  f1-score   support\n",
      "\n",
      "           0       0.83      0.78      0.80       162\n",
      "           1       0.65      0.72      0.68        92\n",
      "\n",
      "    accuracy                           0.76       254\n",
      "   macro avg       0.74      0.75      0.74       254\n",
      "weighted avg       0.76      0.76      0.76       254\n",
      "\n"
     ]
    }
   ],
   "source": [
    "from sklearn.metrics import classification_report, confusion_matrix\n",
    "\n",
    "print(confusion_matrix(y_test, predictions))\n",
    "print(classification_report(y_test,predictions))"
   ]
  },
  {
   "cell_type": "code",
   "execution_count": 39,
   "metadata": {},
   "outputs": [
    {
     "data": {
      "text/plain": [
       "XGBClassifier(base_score=None, booster=None, callbacks=None,\n",
       "              colsample_bylevel=None, colsample_bynode=None,\n",
       "              colsample_bytree=None, early_stopping_rounds=None,\n",
       "              enable_categorical=False, eval_metric=None, feature_types=None,\n",
       "              gamma=0, gpu_id=None, grow_policy=None, importance_type=None,\n",
       "              interaction_constraints=None, learning_rate=None, max_bin=None,\n",
       "              max_cat_threshold=None, max_cat_to_onehot=None,\n",
       "              max_delta_step=None, max_depth=None, max_leaves=None,\n",
       "              min_child_weight=None, missing=nan, monotone_constraints=None,\n",
       "              n_estimators=100, n_jobs=None, num_parallel_tree=None,\n",
       "              predictor=None, random_state=None, ...)"
      ]
     },
     "execution_count": 39,
     "metadata": {},
     "output_type": "execute_result"
    }
   ],
   "source": [
    "#Building model using XGBoost\n",
    "\n",
    "from xgboost import XGBClassifier\n",
    "\n",
    "xgb_model = XGBClassifier(gamma=0)\n",
    "xgb_model.fit(X_train, y_train)"
   ]
  },
  {
   "cell_type": "code",
   "execution_count": 40,
   "metadata": {},
   "outputs": [],
   "source": [
    "xgb_pred = xgb_model.predict(X_test)"
   ]
  },
  {
   "cell_type": "code",
   "execution_count": 41,
   "metadata": {},
   "outputs": [
    {
     "name": "stdout",
     "output_type": "stream",
     "text": [
      "Accuracy Score = 0.7401574803149606\n"
     ]
    }
   ],
   "source": [
    "#Getting accuracy score for XGBoost\n",
    "\n",
    "from sklearn import metrics\n",
    "\n",
    "print(\"Accuracy Score =\", format(metrics.accuracy_score(y_test, xgb_pred)))"
   ]
  },
  {
   "cell_type": "code",
   "execution_count": 42,
   "metadata": {},
   "outputs": [
    {
     "name": "stdout",
     "output_type": "stream",
     "text": [
      "[[127  35]\n",
      " [ 31  61]]\n",
      "              precision    recall  f1-score   support\n",
      "\n",
      "           0       0.80      0.78      0.79       162\n",
      "           1       0.64      0.66      0.65        92\n",
      "\n",
      "    accuracy                           0.74       254\n",
      "   macro avg       0.72      0.72      0.72       254\n",
      "weighted avg       0.74      0.74      0.74       254\n",
      "\n"
     ]
    }
   ],
   "source": [
    "#Metrics for XGBoost\n",
    "from sklearn.metrics import classification_report, confusion_matrix\n",
    "\n",
    "print(confusion_matrix(y_test, xgb_pred))\n",
    "print(classification_report(y_test,xgb_pred))"
   ]
  },
  {
   "cell_type": "code",
   "execution_count": 43,
   "metadata": {},
   "outputs": [
    {
     "data": {
      "text/plain": [
       "SVC()"
      ]
     },
     "execution_count": 43,
     "metadata": {},
     "output_type": "execute_result"
    }
   ],
   "source": [
    "#Building the model using Support Vector Machine (SVM)\n",
    "\n",
    "from sklearn.svm import SVC\n",
    "\n",
    "svc_model = SVC()\n",
    "svc_model.fit(X_train, y_train)"
   ]
  },
  {
   "cell_type": "code",
   "execution_count": 44,
   "metadata": {},
   "outputs": [],
   "source": [
    "#Predict\n",
    "svc_pred = svc_model.predict(X_test)"
   ]
  },
  {
   "cell_type": "code",
   "execution_count": 45,
   "metadata": {},
   "outputs": [
    {
     "name": "stdout",
     "output_type": "stream",
     "text": [
      "Accuracy Score = 0.7401574803149606\n"
     ]
    }
   ],
   "source": [
    "#Accuracy score for SVM\n",
    "from sklearn import metrics\n",
    "\n",
    "print(\"Accuracy Score =\", format(metrics.accuracy_score(y_test, svc_pred)))"
   ]
  },
  {
   "cell_type": "code",
   "execution_count": 46,
   "metadata": {},
   "outputs": [
    {
     "name": "stdout",
     "output_type": "stream",
     "text": [
      "[[143  19]\n",
      " [ 47  45]]\n",
      "              precision    recall  f1-score   support\n",
      "\n",
      "           0       0.75      0.88      0.81       162\n",
      "           1       0.70      0.49      0.58        92\n",
      "\n",
      "    accuracy                           0.74       254\n",
      "   macro avg       0.73      0.69      0.69       254\n",
      "weighted avg       0.73      0.74      0.73       254\n",
      "\n"
     ]
    }
   ],
   "source": [
    "#Metrics for SVM\n",
    "from sklearn.metrics import classification_report, confusion_matrix\n",
    "\n",
    "print(confusion_matrix(y_test, svc_pred))\n",
    "print(classification_report(y_test,svc_pred))"
   ]
  },
  {
   "cell_type": "markdown",
   "metadata": {},
   "source": [
    "# Conclusion from model building"
   ]
  },
  {
   "cell_type": "markdown",
   "metadata": {},
   "source": [
    "Therefore Random forest is the best model for this prediction since it has an accuracy_score of 0.76"
   ]
  },
  {
   "cell_type": "code",
   "execution_count": 47,
   "metadata": {},
   "outputs": [
    {
     "data": {
      "text/plain": [
       "array([0.07335676, 0.25856977, 0.08778778, 0.07693595, 0.08780756,\n",
       "       0.15311281, 0.12743356, 0.1349958 ])"
      ]
     },
     "execution_count": 47,
     "metadata": {},
     "output_type": "execute_result"
    }
   ],
   "source": [
    "#Getting feature importances\n",
    "rfc.feature_importances_"
   ]
  },
  {
   "cell_type": "code",
   "execution_count": 48,
   "metadata": {},
   "outputs": [
    {
     "data": {
      "text/plain": [
       "<AxesSubplot:>"
      ]
     },
     "execution_count": 48,
     "metadata": {},
     "output_type": "execute_result"
    },
    {
     "data": {
      "image/png": "[encoded data removed]",
      "text/plain": [
       "<Figure size 640x480 with 1 Axes>"
      ]
     },
     "metadata": {},
     "output_type": "display_data"
    }
   ],
   "source": [
    "#Plotting feature importances\n",
    "(pd.Series(rfc.feature_importances_, index=X.columns)\n",
    "   .plot(kind='barh'))  "
   ]
  },
  {
   "cell_type": "markdown",
   "metadata": {},
   "source": [
    "Here from the above graph it is clearly visible that Glucose as a feature has the most importance in this dataset."
   ]
  },
  {
   "cell_type": "code",
   "execution_count": 49,
   "metadata": {},
   "outputs": [
    {
     "name": "stdout",
     "output_type": "stream",
     "text": [
      "Prediction Probabilities\n"
     ]
    },
    {
     "data": {
      "text/plain": [
       "array([[0.945, 0.055],\n",
       "       [0.14 , 0.86 ],\n",
       "       [0.545, 0.455],\n",
       "       [0.835, 0.165],\n",
       "       [0.39 , 0.61 ],\n",
       "       [0.4  , 0.6  ],\n",
       "       [0.9  , 0.1  ],\n",
       "       [0.89 , 0.11 ],\n",
       "       [0.2  , 0.8  ],\n",
       "       [0.82 , 0.18 ],\n",
       "       [0.085, 0.915],\n",
       "       [0.915, 0.085],\n",
       "       [0.255, 0.745],\n",
       "       [0.075, 0.925],\n",
       "       [0.685, 0.315],\n",
       "       [0.765, 0.235],\n",
       "       [0.81 , 0.19 ],\n",
       "       [0.475, 0.525],\n",
       "       [0.805, 0.195],\n",
       "       [0.625, 0.375],\n",
       "       [0.52 , 0.48 ],\n",
       "       [0.825, 0.175],\n",
       "       [0.22 , 0.78 ],\n",
       "       [0.385, 0.615],\n",
       "       [0.805, 0.195],\n",
       "       [0.93 , 0.07 ],\n",
       "       [0.925, 0.075],\n",
       "       [0.405, 0.595],\n",
       "       [0.36 , 0.64 ],\n",
       "       [0.665, 0.335],\n",
       "       [0.37 , 0.63 ],\n",
       "       [0.825, 0.175],\n",
       "       [0.595, 0.405],\n",
       "       [0.485, 0.515],\n",
       "       [0.94 , 0.06 ],\n",
       "       [0.43 , 0.57 ],\n",
       "       [0.415, 0.585],\n",
       "       [0.735, 0.265],\n",
       "       [0.275, 0.725],\n",
       "       [0.535, 0.465],\n",
       "       [0.155, 0.845],\n",
       "       [0.245, 0.755],\n",
       "       [0.265, 0.735],\n",
       "       [1.   , 0.   ],\n",
       "       [0.655, 0.345],\n",
       "       [0.81 , 0.19 ],\n",
       "       [0.55 , 0.45 ],\n",
       "       [0.455, 0.545],\n",
       "       [0.725, 0.275],\n",
       "       [0.405, 0.595],\n",
       "       [0.945, 0.055],\n",
       "       [0.975, 0.025],\n",
       "       [0.56 , 0.44 ],\n",
       "       [0.4  , 0.6  ],\n",
       "       [0.315, 0.685],\n",
       "       [0.62 , 0.38 ],\n",
       "       [0.765, 0.235],\n",
       "       [0.955, 0.045],\n",
       "       [0.5  , 0.5  ],\n",
       "       [0.64 , 0.36 ],\n",
       "       [0.84 , 0.16 ],\n",
       "       [0.455, 0.545],\n",
       "       [0.71 , 0.29 ],\n",
       "       [0.245, 0.755],\n",
       "       [0.315, 0.685],\n",
       "       [0.46 , 0.54 ],\n",
       "       [0.84 , 0.16 ],\n",
       "       [0.33 , 0.67 ],\n",
       "       [0.085, 0.915],\n",
       "       [0.255, 0.745],\n",
       "       [0.225, 0.775],\n",
       "       [0.22 , 0.78 ],\n",
       "       [0.8  , 0.2  ],\n",
       "       [0.825, 0.175],\n",
       "       [0.83 , 0.17 ],\n",
       "       [0.7  , 0.3  ],\n",
       "       [0.755, 0.245],\n",
       "       [0.72 , 0.28 ],\n",
       "       [0.965, 0.035],\n",
       "       [0.76 , 0.24 ],\n",
       "       [0.885, 0.115],\n",
       "       [0.75 , 0.25 ],\n",
       "       [0.765, 0.235],\n",
       "       [0.965, 0.035],\n",
       "       [0.495, 0.505],\n",
       "       [0.385, 0.615],\n",
       "       [0.16 , 0.84 ],\n",
       "       [0.6  , 0.4  ],\n",
       "       [0.13 , 0.87 ],\n",
       "       [0.95 , 0.05 ],\n",
       "       [0.32 , 0.68 ],\n",
       "       [0.83 , 0.17 ],\n",
       "       [0.39 , 0.61 ],\n",
       "       [0.62 , 0.38 ],\n",
       "       [0.645, 0.355],\n",
       "       [0.315, 0.685],\n",
       "       [0.385, 0.615],\n",
       "       [0.915, 0.085],\n",
       "       [0.47 , 0.53 ],\n",
       "       [0.515, 0.485],\n",
       "       [0.44 , 0.56 ],\n",
       "       [0.89 , 0.11 ],\n",
       "       [0.62 , 0.38 ],\n",
       "       [0.665, 0.335],\n",
       "       [0.825, 0.175],\n",
       "       [0.56 , 0.44 ],\n",
       "       [0.78 , 0.22 ],\n",
       "       [0.66 , 0.34 ],\n",
       "       [0.73 , 0.27 ],\n",
       "       [0.135, 0.865],\n",
       "       [0.99 , 0.01 ],\n",
       "       [0.28 , 0.72 ],\n",
       "       [0.42 , 0.58 ],\n",
       "       [0.97 , 0.03 ],\n",
       "       [0.33 , 0.67 ],\n",
       "       [0.455, 0.545],\n",
       "       [0.92 , 0.08 ],\n",
       "       [0.71 , 0.29 ],\n",
       "       [0.475, 0.525],\n",
       "       [0.29 , 0.71 ],\n",
       "       [0.645, 0.355],\n",
       "       [0.935, 0.065],\n",
       "       [0.825, 0.175],\n",
       "       [0.965, 0.035],\n",
       "       [0.925, 0.075],\n",
       "       [0.2  , 0.8  ],\n",
       "       [0.975, 0.025],\n",
       "       [0.49 , 0.51 ],\n",
       "       [0.94 , 0.06 ],\n",
       "       [0.875, 0.125],\n",
       "       [0.94 , 0.06 ],\n",
       "       [0.28 , 0.72 ],\n",
       "       [0.93 , 0.07 ],\n",
       "       [0.86 , 0.14 ],\n",
       "       [0.615, 0.385],\n",
       "       [0.99 , 0.01 ],\n",
       "       [0.91 , 0.09 ],\n",
       "       [0.715, 0.285],\n",
       "       [1.   , 0.   ],\n",
       "       [0.245, 0.755],\n",
       "       [0.795, 0.205],\n",
       "       [0.46 , 0.54 ],\n",
       "       [0.43 , 0.57 ],\n",
       "       [0.605, 0.395],\n",
       "       [0.965, 0.035],\n",
       "       [0.575, 0.425],\n",
       "       [0.5  , 0.5  ],\n",
       "       [0.885, 0.115],\n",
       "       [0.165, 0.835],\n",
       "       [0.52 , 0.48 ],\n",
       "       [0.95 , 0.05 ],\n",
       "       [0.56 , 0.44 ],\n",
       "       [0.91 , 0.09 ],\n",
       "       [0.95 , 0.05 ],\n",
       "       [0.725, 0.275],\n",
       "       [0.84 , 0.16 ],\n",
       "       [0.09 , 0.91 ],\n",
       "       [0.845, 0.155],\n",
       "       [0.425, 0.575],\n",
       "       [0.825, 0.175],\n",
       "       [0.515, 0.485],\n",
       "       [0.86 , 0.14 ],\n",
       "       [0.975, 0.025],\n",
       "       [0.925, 0.075],\n",
       "       [0.24 , 0.76 ],\n",
       "       [0.8  , 0.2  ],\n",
       "       [0.33 , 0.67 ],\n",
       "       [0.925, 0.075],\n",
       "       [0.87 , 0.13 ],\n",
       "       [0.125, 0.875],\n",
       "       [0.875, 0.125],\n",
       "       [0.29 , 0.71 ],\n",
       "       [0.5  , 0.5  ],\n",
       "       [0.555, 0.445],\n",
       "       [0.49 , 0.51 ],\n",
       "       [0.665, 0.335],\n",
       "       [0.15 , 0.85 ],\n",
       "       [0.59 , 0.41 ],\n",
       "       [0.35 , 0.65 ],\n",
       "       [0.68 , 0.32 ],\n",
       "       [0.39 , 0.61 ],\n",
       "       [0.545, 0.455],\n",
       "       [0.925, 0.075],\n",
       "       [0.585, 0.415],\n",
       "       [0.595, 0.405],\n",
       "       [0.82 , 0.18 ],\n",
       "       [0.94 , 0.06 ],\n",
       "       [0.955, 0.045],\n",
       "       [0.95 , 0.05 ],\n",
       "       [0.165, 0.835],\n",
       "       [0.235, 0.765],\n",
       "       [0.85 , 0.15 ],\n",
       "       [0.23 , 0.77 ],\n",
       "       [0.23 , 0.77 ],\n",
       "       [0.585, 0.415],\n",
       "       [0.665, 0.335],\n",
       "       [0.27 , 0.73 ],\n",
       "       [0.97 , 0.03 ],\n",
       "       [0.97 , 0.03 ],\n",
       "       [0.515, 0.485],\n",
       "       [0.65 , 0.35 ],\n",
       "       [0.62 , 0.38 ],\n",
       "       [0.19 , 0.81 ],\n",
       "       [0.115, 0.885],\n",
       "       [0.6  , 0.4  ],\n",
       "       [0.96 , 0.04 ],\n",
       "       [0.275, 0.725],\n",
       "       [0.92 , 0.08 ],\n",
       "       [0.74 , 0.26 ],\n",
       "       [0.94 , 0.06 ],\n",
       "       [0.15 , 0.85 ],\n",
       "       [0.3  , 0.7  ],\n",
       "       [0.86 , 0.14 ],\n",
       "       [0.67 , 0.33 ],\n",
       "       [0.52 , 0.48 ],\n",
       "       [0.935, 0.065],\n",
       "       [0.745, 0.255],\n",
       "       [0.18 , 0.82 ],\n",
       "       [0.96 , 0.04 ],\n",
       "       [0.755, 0.245],\n",
       "       [0.965, 0.035],\n",
       "       [0.48 , 0.52 ],\n",
       "       [0.26 , 0.74 ],\n",
       "       [0.535, 0.465],\n",
       "       [0.515, 0.485],\n",
       "       [0.255, 0.745],\n",
       "       [0.59 , 0.41 ],\n",
       "       [0.54 , 0.46 ],\n",
       "       [0.385, 0.615],\n",
       "       [0.82 , 0.18 ],\n",
       "       [0.56 , 0.44 ],\n",
       "       [0.25 , 0.75 ],\n",
       "       [0.725, 0.275],\n",
       "       [0.58 , 0.42 ],\n",
       "       [0.92 , 0.08 ],\n",
       "       [0.87 , 0.13 ],\n",
       "       [0.995, 0.005],\n",
       "       [0.275, 0.725],\n",
       "       [0.49 , 0.51 ],\n",
       "       [0.795, 0.205],\n",
       "       [0.6  , 0.4  ],\n",
       "       [0.305, 0.695],\n",
       "       [0.31 , 0.69 ],\n",
       "       [0.89 , 0.11 ],\n",
       "       [0.09 , 0.91 ],\n",
       "       [0.935, 0.065],\n",
       "       [0.42 , 0.58 ],\n",
       "       [0.735, 0.265],\n",
       "       [0.795, 0.205],\n",
       "       [0.745, 0.255],\n",
       "       [0.955, 0.045],\n",
       "       [0.425, 0.575],\n",
       "       [0.34 , 0.66 ],\n",
       "       [0.06 , 0.94 ]])"
      ]
     },
     "execution_count": 49,
     "metadata": {},
     "output_type": "execute_result"
    }
   ],
   "source": [
    "#Printing prediction probabilities for the test data\n",
    "print('Prediction Probabilities')\n",
    "rfc.predict_proba(X_test)"
   ]
  },
  {
   "cell_type": "markdown",
   "metadata": {},
   "source": [
    "## Saving model"
   ]
  },
  {
   "cell_type": "code",
   "execution_count": 55,
   "metadata": {},
   "outputs": [],
   "source": [
    "import pickle\n",
    "pickle.dump(rfc,open('rfc_model.p','wb'))"
   ]
  },
  {
   "cell_type": "code",
   "execution_count": null,
   "metadata": {},
   "outputs": [],
   "source": [
    "import pickle\n",
    " \n",
    "# Firstly we will be using the dump() function to save the model using pickle\n",
    "saved_model = pickle.dumps(rfc)"
   ]
  },
  {
   "cell_type": "code",
   "execution_count": 50,
   "metadata": {
    "scrolled": true
   },
   "outputs": [
    {
     "data": {
      "text/plain": [
       "array([0, 1, 0, 0, 1, 1, 0, 0, 1, 0, 1, 0, 1, 1, 0, 0, 0, 1, 0, 0, 0, 0,\n",
       "       1, 1, 0, 0, 0, 1, 1, 0, 1, 0, 0, 1, 0, 1, 1, 0, 1, 0, 1, 1, 1, 0,\n",
       "       0, 0, 0, 1, 0, 1, 0, 0, 0, 1, 1, 0, 0, 0, 0, 0, 0, 1, 0, 1, 1, 1,\n",
       "       0, 1, 1, 1, 1, 1, 0, 0, 0, 0, 0, 0, 0, 0, 0, 0, 0, 0, 1, 1, 1, 0,\n",
       "       1, 0, 1, 0, 1, 0, 0, 1, 1, 0, 1, 0, 1, 0, 0, 0, 0, 0, 0, 0, 0, 1,\n",
       "       0, 1, 1, 0, 1, 1, 0, 0, 1, 1, 0, 0, 0, 0, 0, 1, 0, 1, 0, 0, 0, 1,\n",
       "       0, 0, 0, 0, 0, 0, 0, 1, 0, 1, 1, 0, 0, 0, 0, 0, 1, 0, 0, 0, 0, 0,\n",
       "       0, 0, 1, 0, 1, 0, 0, 0, 0, 0, 1, 0, 1, 0, 0, 1, 0, 1, 0, 0, 1, 0,\n",
       "       1, 0, 1, 0, 1, 0, 0, 0, 0, 0, 0, 0, 0, 1, 1, 0, 1, 1, 0, 0, 1, 0,\n",
       "       0, 0, 0, 0, 1, 1, 0, 0, 1, 0, 0, 0, 1, 1, 0, 0, 0, 0, 0, 1, 0, 0,\n",
       "       0, 1, 1, 0, 0, 1, 0, 0, 1, 0, 0, 1, 0, 0, 0, 0, 0, 1, 1, 0, 0, 1,\n",
       "       1, 0, 1, 0, 1, 0, 0, 0, 0, 1, 1, 1])"
      ]
     },
     "execution_count": 50,
     "metadata": {},
     "output_type": "execute_result"
    }
   ],
   "source": [
    "# Then we will be loading that saved model\n",
    "rfc_from_pickle = pickle.loads(saved_model)\n",
    " \n",
    "# lastly, after loading that model we will use this to make predictions\n",
    "rfc_from_pickle.predict(X_test)"
   ]
  },
  {
   "cell_type": "code",
   "execution_count": 51,
   "metadata": {
    "scrolled": true
   },
   "outputs": [
    {
     "data": {
      "text/html": [
       "<div>\n",
       "<style scoped>\n",
       "    .dataframe tbody tr th:only-of-type {\n",
       "        vertical-align: middle;\n",
       "    }\n",
       "\n",
       "    .dataframe tbody tr th {\n",
       "        vertical-align: top;\n",
       "    }\n",
       "\n",
       "    .dataframe thead th {\n",
       "        text-align: right;\n",
       "    }\n",
       "</style>\n",
       "<table border=\"1\" class=\"dataframe\">\n",
       "  <thead>\n",
       "    <tr style=\"text-align: right;\">\n",
       "      <th></th>\n",
       "      <th>pregnancies</th>\n",
       "      <th>glucose</th>\n",
       "      <th>diastolic</th>\n",
       "      <th>triceps</th>\n",
       "      <th>insulin</th>\n",
       "      <th>bmi</th>\n",
       "      <th>dpf</th>\n",
       "      <th>age</th>\n",
       "      <th>diabetes</th>\n",
       "    </tr>\n",
       "  </thead>\n",
       "  <tbody>\n",
       "    <tr>\n",
       "      <th>0</th>\n",
       "      <td>6</td>\n",
       "      <td>148</td>\n",
       "      <td>72</td>\n",
       "      <td>35</td>\n",
       "      <td>0</td>\n",
       "      <td>33.6</td>\n",
       "      <td>0.627</td>\n",
       "      <td>50</td>\n",
       "      <td>1</td>\n",
       "    </tr>\n",
       "    <tr>\n",
       "      <th>1</th>\n",
       "      <td>1</td>\n",
       "      <td>85</td>\n",
       "      <td>66</td>\n",
       "      <td>29</td>\n",
       "      <td>0</td>\n",
       "      <td>26.6</td>\n",
       "      <td>0.351</td>\n",
       "      <td>31</td>\n",
       "      <td>0</td>\n",
       "    </tr>\n",
       "    <tr>\n",
       "      <th>2</th>\n",
       "      <td>8</td>\n",
       "      <td>183</td>\n",
       "      <td>64</td>\n",
       "      <td>0</td>\n",
       "      <td>0</td>\n",
       "      <td>23.3</td>\n",
       "      <td>0.672</td>\n",
       "      <td>32</td>\n",
       "      <td>1</td>\n",
       "    </tr>\n",
       "    <tr>\n",
       "      <th>3</th>\n",
       "      <td>1</td>\n",
       "      <td>89</td>\n",
       "      <td>66</td>\n",
       "      <td>23</td>\n",
       "      <td>94</td>\n",
       "      <td>28.1</td>\n",
       "      <td>0.167</td>\n",
       "      <td>21</td>\n",
       "      <td>0</td>\n",
       "    </tr>\n",
       "    <tr>\n",
       "      <th>4</th>\n",
       "      <td>0</td>\n",
       "      <td>137</td>\n",
       "      <td>40</td>\n",
       "      <td>35</td>\n",
       "      <td>168</td>\n",
       "      <td>43.1</td>\n",
       "      <td>2.288</td>\n",
       "      <td>33</td>\n",
       "      <td>1</td>\n",
       "    </tr>\n",
       "  </tbody>\n",
       "</table>\n",
       "</div>"
      ],
      "text/plain": [
       "   pregnancies  glucose  diastolic  triceps  insulin   bmi    dpf  age  \\\n",
       "0            6      148         72       35        0  33.6  0.627   50   \n",
       "1            1       85         66       29        0  26.6  0.351   31   \n",
       "2            8      183         64        0        0  23.3  0.672   32   \n",
       "3            1       89         66       23       94  28.1  0.167   21   \n",
       "4            0      137         40       35      168  43.1  2.288   33   \n",
       "\n",
       "   diabetes  \n",
       "0         1  \n",
       "1         0  \n",
       "2         1  \n",
       "3         0  \n",
       "4         1  "
      ]
     },
     "execution_count": 51,
     "metadata": {},
     "output_type": "execute_result"
    }
   ],
   "source": [
    "diabetes_df.head()"
   ]
  },
  {
   "cell_type": "code",
   "execution_count": 52,
   "metadata": {
    "scrolled": true
   },
   "outputs": [
    {
     "data": {
      "text/html": [
       "<div>\n",
       "<style scoped>\n",
       "    .dataframe tbody tr th:only-of-type {\n",
       "        vertical-align: middle;\n",
       "    }\n",
       "\n",
       "    .dataframe tbody tr th {\n",
       "        vertical-align: top;\n",
       "    }\n",
       "\n",
       "    .dataframe thead th {\n",
       "        text-align: right;\n",
       "    }\n",
       "</style>\n",
       "<table border=\"1\" class=\"dataframe\">\n",
       "  <thead>\n",
       "    <tr style=\"text-align: right;\">\n",
       "      <th></th>\n",
       "      <th>pregnancies</th>\n",
       "      <th>glucose</th>\n",
       "      <th>diastolic</th>\n",
       "      <th>triceps</th>\n",
       "      <th>insulin</th>\n",
       "      <th>bmi</th>\n",
       "      <th>dpf</th>\n",
       "      <th>age</th>\n",
       "      <th>diabetes</th>\n",
       "    </tr>\n",
       "  </thead>\n",
       "  <tbody>\n",
       "    <tr>\n",
       "      <th>763</th>\n",
       "      <td>10</td>\n",
       "      <td>101</td>\n",
       "      <td>76</td>\n",
       "      <td>48</td>\n",
       "      <td>180</td>\n",
       "      <td>32.9</td>\n",
       "      <td>0.171</td>\n",
       "      <td>63</td>\n",
       "      <td>0</td>\n",
       "    </tr>\n",
       "    <tr>\n",
       "      <th>764</th>\n",
       "      <td>2</td>\n",
       "      <td>122</td>\n",
       "      <td>70</td>\n",
       "      <td>27</td>\n",
       "      <td>0</td>\n",
       "      <td>36.8</td>\n",
       "      <td>0.340</td>\n",
       "      <td>27</td>\n",
       "      <td>0</td>\n",
       "    </tr>\n",
       "    <tr>\n",
       "      <th>765</th>\n",
       "      <td>5</td>\n",
       "      <td>121</td>\n",
       "      <td>72</td>\n",
       "      <td>23</td>\n",
       "      <td>112</td>\n",
       "      <td>26.2</td>\n",
       "      <td>0.245</td>\n",
       "      <td>30</td>\n",
       "      <td>0</td>\n",
       "    </tr>\n",
       "    <tr>\n",
       "      <th>766</th>\n",
       "      <td>1</td>\n",
       "      <td>126</td>\n",
       "      <td>60</td>\n",
       "      <td>0</td>\n",
       "      <td>0</td>\n",
       "      <td>30.1</td>\n",
       "      <td>0.349</td>\n",
       "      <td>47</td>\n",
       "      <td>1</td>\n",
       "    </tr>\n",
       "    <tr>\n",
       "      <th>767</th>\n",
       "      <td>1</td>\n",
       "      <td>93</td>\n",
       "      <td>70</td>\n",
       "      <td>31</td>\n",
       "      <td>0</td>\n",
       "      <td>30.4</td>\n",
       "      <td>0.315</td>\n",
       "      <td>23</td>\n",
       "      <td>0</td>\n",
       "    </tr>\n",
       "  </tbody>\n",
       "</table>\n",
       "</div>"
      ],
      "text/plain": [
       "     pregnancies  glucose  diastolic  triceps  insulin   bmi    dpf  age  \\\n",
       "763           10      101         76       48      180  32.9  0.171   63   \n",
       "764            2      122         70       27        0  36.8  0.340   27   \n",
       "765            5      121         72       23      112  26.2  0.245   30   \n",
       "766            1      126         60        0        0  30.1  0.349   47   \n",
       "767            1       93         70       31        0  30.4  0.315   23   \n",
       "\n",
       "     diabetes  \n",
       "763         0  \n",
       "764         0  \n",
       "765         0  \n",
       "766         1  \n",
       "767         0  "
      ]
     },
     "execution_count": 52,
     "metadata": {},
     "output_type": "execute_result"
    }
   ],
   "source": [
    "diabetes_df.tail()"
   ]
  },
  {
   "cell_type": "code",
   "execution_count": 53,
   "metadata": {},
   "outputs": [
    {
     "data": {
      "text/plain": [
       "array([1])"
      ]
     },
     "execution_count": 53,
     "metadata": {},
     "output_type": "execute_result"
    }
   ],
   "source": [
    "# putting datapoints in the model it will either return 0 or 1 i.e. person suffering from diabetes or not\n",
    "rfc.predict([[0,137,40,35,168,43.1,2.228,33]]) #4th patient"
   ]
  },
  {
   "cell_type": "code",
   "execution_count": 54,
   "metadata": {},
   "outputs": [
    {
     "data": {
      "text/plain": [
       "array([0])"
      ]
     },
     "execution_count": 54,
     "metadata": {},
     "output_type": "execute_result"
    }
   ],
   "source": [
    "# putting datapoints in the model it will either return 0 or 1 i.e. person suffering from diabetes or not\n",
    "rfc.predict([[10,101,76,48,180,32.9,0.171,63]])  # 763 th patient"
   ]
  },
  {
   "cell_type": "markdown",
   "metadata": {},
   "source": [
    "### Conclusion"
   ]
  },
  {
   "cell_type": "markdown",
   "metadata": {
    "id": "zkhb2HizAr3n"
   },
   "source": [
    "After using all these these patient records, we are able to build a machine learning model to accurately predict whether or not the patients in the dataset is diabetic or not."
   ]
  },
  {
   "cell_type": "code",
   "execution_count": null,
   "metadata": {},
   "outputs": [],
   "source": []
  }
 ],
 "metadata": {
  "kernelspec": {
   "display_name": "Python 3 (ipykernel)",
   "language": "python",
   "name": "python3"
  },
  "language_info": {
   "codemirror_mode": {
    "name": "ipython",
    "version": 3
   },
   "file_extension": ".py",
   "mimetype": "text/x-python",
   "name": "python",
   "nbconvert_exporter": "python",
   "pygments_lexer": "ipython3",
   "version": "3.9.13"
  },
  "varInspector": {
   "cols": {
    "lenName": 16,
    "lenType": 16,
    "lenVar": 40
   },
   "kernels_config": {
    "python": {
     "delete_cmd_postfix": "",
     "delete_cmd_prefix": "del ",
     "library": "var_list.py",
     "varRefreshCmd": "print(var_dic_list())"
    },
    "r": {
     "delete_cmd_postfix": ") ",
     "delete_cmd_prefix": "rm(",
     "library": "var_list.r",
     "varRefreshCmd": "cat(var_dic_list()) "
    }
   },
   "types_to_exclude": [
    "module",
    "function",
    "builtin_function_or_method",
    "instance",
    "_Feature"
   ],
   "window_display": false
  }
 },
 "nbformat": 4,
 "nbformat_minor": 4
}
