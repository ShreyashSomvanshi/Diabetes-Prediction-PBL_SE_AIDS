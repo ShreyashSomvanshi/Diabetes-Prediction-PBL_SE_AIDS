import pandas as pd
df = pd.read_csv(r'https://github.com/Yantra-Byte/Dataset/raw/main/Diabetes.csv')
vw = df.head()
print(vw)
