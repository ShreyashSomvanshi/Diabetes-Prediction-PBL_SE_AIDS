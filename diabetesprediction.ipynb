import pandas as pd
df = pd.read_csv(r'https://github.com/Yantra-Byte/Dataset/raw/main/Diabetes.csv')
vw = df.head()
print(vw)
df.head()
df.tail()
df.info()

X = df[[]]
X.shape

y = df['diabetes']
y.shape

from sklearn.neighbors import KNeighborsClassifier
KNeighborsClassifier()

from sklearn.naive_bayes import GaussianNB
GaussianNB()

from sklearn.ensemble import RandomForestClassifier
RandomForestClassifier()

from sklearn.model_selection import train_test_split

from sklearn.tree import DecisionTreeClassifier
DecisionTreeClassifier()

from sklearn,svm import SVC
SVC()

from sklearn.linear_model import LogisticRegression
LogisticRegression()

#Accuracy Evaluation

from sklearn.metrics import confusion_matrix, classification_report
